{
 "cells": [
  {
   "cell_type": "markdown",
   "id": "1eaf6d2a",
   "metadata": {},
   "source": [
    "# Analysis plan\n",
    "\n",
    "## fMRI \n",
    "1. fix stats.ipynb to work with current folder structure\n",
    "2. expand ANM analysis to all contrasts and to both threshold levels  \n",
    "3. plot canonical fMRI results as well \n",
    "\n",
    "## PET \n",
    "4. extract FEOBV values from ROIs \n",
    "5. extract fMRI values from same ROIs \n",
    "6. correlate\n",
    "\n",
    "## fMRI * behaviour\n",
    "7. PCA on the fMRI \n",
    "8. regularized regression between components & wm performance \n",
    "\n"
   ]
  }
 ],
 "metadata": {
  "language_info": {
   "name": "python"
  }
 },
 "nbformat": 4,
 "nbformat_minor": 5
}
